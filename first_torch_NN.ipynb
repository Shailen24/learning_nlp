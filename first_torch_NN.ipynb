{
 "cells": [
  {
   "cell_type": "code",
   "execution_count": null,
   "outputs": [
    {
     "name": "stdout",
     "output_type": "stream",
     "text": [
      "Epoch 1 \n",
      "-----------\n",
      "loss: 2.299376  [   64/60000]\n",
      "loss: 2.294699  [ 6464/60000]\n",
      "loss: 2.276846  [12864/60000]\n",
      "loss: 2.271792  [19264/60000]\n",
      "loss: 2.241308  [25664/60000]\n",
      "loss: 2.172712  [32064/60000]\n",
      "loss: 2.150507  [38464/60000]\n",
      "loss: 1.974500  [44864/60000]\n",
      "loss: 1.795947  [51264/60000]\n",
      "loss: 1.437189  [57664/60000]\n",
      "Test Error: \n",
      " Accuracy: 62.8%, Avg loss: 1.355613 \n",
      "\n",
      "Epoch 2 \n",
      "-----------\n",
      "loss: 1.427833  [   64/60000]\n",
      "loss: 1.203494  [ 6464/60000]\n",
      "loss: 0.904029  [12864/60000]\n",
      "loss: 0.990669  [19264/60000]\n",
      "loss: 0.864264  [25664/60000]\n",
      "loss: 0.831717  [32064/60000]\n",
      "loss: 0.859775  [38464/60000]\n",
      "loss: 0.785583  [44864/60000]\n",
      "loss: 0.756999  [51264/60000]\n",
      "loss: 0.820596  [57664/60000]\n",
      "Test Error: \n",
      " Accuracy: 72.8%, Avg loss: 0.759304 \n",
      "\n",
      "Epoch 3 \n",
      "-----------\n",
      "loss: 0.740912  [   64/60000]\n",
      "loss: 0.797706  [ 6464/60000]\n",
      "loss: 0.574257  [12864/60000]\n",
      "loss: 0.790174  [19264/60000]\n",
      "loss: 0.731885  [25664/60000]\n",
      "loss: 0.722155  [32064/60000]\n",
      "loss: 0.734254  [38464/60000]\n",
      "loss: 0.697654  [44864/60000]\n",
      "loss: 0.690202  [51264/60000]\n",
      "loss: 0.735505  [57664/60000]\n",
      "Test Error: \n",
      " Accuracy: 74.9%, Avg loss: 0.687737 \n",
      "\n",
      "Epoch 4 \n",
      "-----------\n",
      "loss: 0.654427  [   64/60000]\n",
      "loss: 0.686433  [ 6464/60000]\n",
      "loss: 0.502101  [12864/60000]\n"
     ]
    }
   ],
   "source": [
    "import torch\n",
    "from torch import nn\n",
    "from torch.utils.data import DataLoader\n",
    "from torchvision import datasets\n",
    "from torchvision.transforms import ToTensor\n",
    "\n",
    "\n",
    "class NeuralNetwork(nn.Module):\n",
    "\n",
    "    def __init__(self):\n",
    "        super(NeuralNetwork, self).__init__()   # why two arguments here?\n",
    "        self.linear_relu_stack = nn.Sequential(\n",
    "            nn.Conv2d(1, 16, 5, padding='same'),\n",
    "            nn.ReLU(),\n",
    "            nn.Conv2d(16, 16, 5, padding='same'),\n",
    "            nn.Flatten(),\n",
    "            nn.Linear(28*28*16, 256),\n",
    "            nn.ReLU(),\n",
    "            nn.Linear(256, 128),\n",
    "            nn.ReLU(),\n",
    "            nn.Linear(128, 10),\n",
    "        )\n",
    "\n",
    "    def forward(self, x):\n",
    "        logits = self.linear_relu_stack(x)\n",
    "        return logits\n",
    "\n",
    "def train_loop(dataloader, model, loss_fn, optimizer):\n",
    "    size = len(dataloader.dataset)\n",
    "    for batch, (X, y) in enumerate(dataloader):\n",
    "        pred = model(X)\n",
    "        loss = loss_fn(pred, y)\n",
    "\n",
    "        optimizer.zero_grad()\n",
    "        loss.backward()\n",
    "        optimizer.step()\n",
    "\n",
    "        if batch % 100 == 0:\n",
    "            loss, current = loss.item(), (batch+1) * len(X)\n",
    "            print(f\"loss: {loss:>7f}  [{current:>5d}/{size:>5d}]\")\n",
    "\n",
    "def test_loop(dataloader, model, loss_fn):\n",
    "    size = len(dataloader.dataset)\n",
    "    num_batches = len(dataloader)\n",
    "    test_loss, correct = 0, 0\n",
    "\n",
    "    with torch.no_grad():\n",
    "        for X, y in dataloader:\n",
    "            pred = model(X)\n",
    "            test_loss += loss_fn(pred, y).item()\n",
    "            correct += (pred.argmax(axis=1) == y).type(torch.float).sum().item()\n",
    "\n",
    "    test_loss /= num_batches\n",
    "    correct /= size\n",
    "    print(f\"Test Error: \\n Accuracy: {100*correct:>.1f}%, Avg loss: {test_loss:>8f} \\n\")\n",
    "\n",
    "training_data = datasets.FashionMNIST(\n",
    "    root=\"data\",\n",
    "    train=True,\n",
    "    download=True,\n",
    "    transform=ToTensor()\n",
    ")\n",
    "\n",
    "test_data = datasets.FashionMNIST(\n",
    "    root=\"data\",\n",
    "    train=False,\n",
    "    download=True,\n",
    "    transform=ToTensor()\n",
    ")\n",
    "\n",
    "train_dataloader = DataLoader(training_data, batch_size = 64)\n",
    "test_dataloader = DataLoader(test_data, batch_size = 64)\n",
    "\n",
    "model = NeuralNetwork()\n",
    "\n",
    "learning_rate = 1e-3\n",
    "batch_size = 64\n",
    "epochs = 10\n",
    "\n",
    "loss_fn = nn.CrossEntropyLoss()\n",
    "optimizer = torch.optim.SGD(model.parameters(), lr=learning_rate)\n",
    "\n",
    "for t in range(epochs):\n",
    "    print(f\"Epoch {t+1} \\n-----------\")\n",
    "    train_loop(train_dataloader, model, loss_fn, optimizer)\n",
    "    test_loop(test_dataloader, model, loss_fn)\n",
    "print(\"Done!\")\n"
   ],
   "metadata": {
    "collapsed": false,
    "pycharm": {
     "is_executing": true
    }
   }
  },
  {
   "cell_type": "code",
   "execution_count": 1,
   "outputs": [
    {
     "name": "stdout",
     "output_type": "stream",
     "text": [
      "5\n"
     ]
    }
   ],
   "source": [
    "class A:\n",
    "    def __init__(self, a):\n",
    "        self.a = a\n",
    "\n",
    "    def __call__(self):\n",
    "        print(self.a)\n",
    "\n",
    "a_obj = A(5)\n",
    "a_obj()"
   ],
   "metadata": {
    "collapsed": false
   }
  },
  {
   "cell_type": "code",
   "execution_count": null,
   "outputs": [],
   "source": [],
   "metadata": {
    "collapsed": false
   }
  }
 ],
 "metadata": {
  "kernelspec": {
   "display_name": "Python 3",
   "language": "python",
   "name": "python3"
  },
  "language_info": {
   "codemirror_mode": {
    "name": "ipython",
    "version": 2
   },
   "file_extension": ".py",
   "mimetype": "text/x-python",
   "name": "python",
   "nbconvert_exporter": "python",
   "pygments_lexer": "ipython2",
   "version": "2.7.6"
  }
 },
 "nbformat": 4,
 "nbformat_minor": 0
}
